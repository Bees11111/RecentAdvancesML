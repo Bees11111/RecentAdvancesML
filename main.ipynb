{
 "cells": [
  {
   "cell_type": "code",
   "execution_count": null,
   "metadata": {},
   "outputs": [],
   "source": [
    "import torch\n",
    "from diffusers import StableDiffusionPipeline\n"
   ]
  },
  {
   "cell_type": "code",
   "execution_count": null,
   "metadata": {},
   "outputs": [],
   "source": [
    "def generate_image(prompt, model=\"runwayml/stable-diffusion-v1-5\"):\n",
    "    \"\"\"\n",
    "    Generates an image based on the given prompt using a local Stable Diffusion model.\n",
    "    :param prompt: Text prompt describing the image.\n",
    "    :param model: The AI model to use (default is Stable Diffusion v1.5).\n",
    "    :return: PIL Image object.\n",
    "    \"\"\"\n",
    "    pipe = StableDiffusionPipeline.from_pretrained(model)\n",
    "    pipe.to(\"cuda\" if torch.cuda.is_available() else \"cpu\")\n",
    "\n",
    "    image = pipe(prompt).images[0]\n",
    "    return image\n"
   ]
  },
  {
   "cell_type": "code",
   "execution_count": null,
   "metadata": {},
   "outputs": [],
   "source": [
    "def save_image(image, filename=\"generated_image.png\"):\n",
    "    \"\"\"\n",
    "    Saves the generated image to a file.\n",
    "    :param image: PIL Image object.\n",
    "    :param filename: Name of the file to save the image.\n",
    "    \"\"\"\n",
    "    path = \"img/\" + filename\n",
    "    image.save(path)\n",
    "    print(f\"Image saved as {path}\")\n"
   ]
  },
  {
   "cell_type": "code",
   "execution_count": null,
   "metadata": {},
   "outputs": [],
   "source": [
    "# Example usage\n",
    "if __name__ == \"__main__\":\n",
    "    prompt = \"A rubber duck\"\n",
    "    image = generate_image(prompt)\n",
    "    save_image(image, \"futuristic_city.png\")\n"
   ]
  }
 ],
 "metadata": {
  "kernelspec": {
   "display_name": "env_raml",
   "language": "python",
   "name": "python3"
  },
  "language_info": {
   "codemirror_mode": {
    "name": "ipython",
    "version": 3
   },
   "file_extension": ".py",
   "mimetype": "text/x-python",
   "name": "python",
   "nbconvert_exporter": "python",
   "pygments_lexer": "ipython3",
   "version": "3.10.11"
  }
 },
 "nbformat": 4,
 "nbformat_minor": 2
}
